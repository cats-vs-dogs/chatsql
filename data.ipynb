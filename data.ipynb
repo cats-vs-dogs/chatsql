{
 "cells": [
  {
   "cell_type": "code",
   "execution_count": 1,
   "id": "eb5f86e3-761a-47e0-9c70-3232e05b94cc",
   "metadata": {
    "execution": {
     "iopub.execute_input": "2023-10-13T18:53:39.423955Z",
     "iopub.status.busy": "2023-10-13T18:53:39.423184Z",
     "iopub.status.idle": "2023-10-13T18:53:39.720135Z",
     "shell.execute_reply": "2023-10-13T18:53:39.719242Z",
     "shell.execute_reply.started": "2023-10-13T18:53:39.423914Z"
    },
    "tags": []
   },
   "outputs": [],
   "source": [
    "import sqlite3\n",
    "import pandas as pd\n",
    "\n",
    "conn = sqlite3.connect('portfolio_data.db')\n",
    "c = conn.cursor()"
   ]
  },
  {
   "cell_type": "code",
   "execution_count": 2,
   "id": "49134c03-6658-4428-bd47-191d7937f2a0",
   "metadata": {
    "execution": {
     "iopub.execute_input": "2023-10-13T18:53:47.386411Z",
     "iopub.status.busy": "2023-10-13T18:53:47.386039Z",
     "iopub.status.idle": "2023-10-13T18:53:47.414682Z",
     "shell.execute_reply": "2023-10-13T18:53:47.414133Z",
     "shell.execute_reply.started": "2023-10-13T18:53:47.386383Z"
    },
    "tags": []
   },
   "outputs": [
    {
     "data": {
      "text/plain": [
       "732"
      ]
     },
     "execution_count": 2,
     "metadata": {},
     "output_type": "execute_result"
    }
   ],
   "source": [
    "corp_ptf = pd.read_csv('corp_portfolio.csv')\n",
    "corp_ptf.to_sql('corporate_portfolio', conn, if_exists='replace', index = False)"
   ]
  },
  {
   "cell_type": "code",
   "execution_count": 3,
   "id": "6db61d5f-9373-4921-b753-ede22679c6e8",
   "metadata": {
    "execution": {
     "iopub.execute_input": "2023-10-13T18:53:50.064765Z",
     "iopub.status.busy": "2023-10-13T18:53:50.064409Z",
     "iopub.status.idle": "2023-10-13T18:53:50.069463Z",
     "shell.execute_reply": "2023-10-13T18:53:50.068616Z",
     "shell.execute_reply.started": "2023-10-13T18:53:50.064740Z"
    },
    "tags": []
   },
   "outputs": [
    {
     "name": "stdout",
     "output_type": "stream",
     "text": [
      "CREATE TABLE \"corporate_portfolio\" (\n",
      "\"REPORTING_DATE\" TEXT,\n",
      "  \"PARTNER_ID\" TEXT,\n",
      "  \"LOAN_ID\" TEXT,\n",
      "  \"PRODUCT\" TEXT,\n",
      "  \"STATUS\" TEXT,\n",
      "  \"EXPOSURE_DRAWN\" REAL,\n",
      "  \"EXPOSURE_UNDRAWN\" REAL,\n",
      "  \"EXPOSURE\" REAL,\n",
      "  \"EAD\" REAL,\n",
      "  \"EAD_COLL\" REAL,\n",
      "  \"PD\" REAL,\n",
      "  \"LGD\" REAL,\n",
      "  \"SIZE\" REAL,\n",
      "  \"MATURITY\" REAL,\n",
      "  \"F_LARGE_FIN\" TEXT,\n",
      "  \"RW\" REAL,\n",
      "  \"RWA\" REAL\n",
      ")\n"
     ]
    }
   ],
   "source": [
    "c.execute('select sql from sqlite_master')\n",
    "for r in c.fetchall():\n",
    "        print(r[0])"
   ]
  },
  {
   "cell_type": "code",
   "execution_count": null,
   "id": "e73804f2-8071-4230-bdda-c6cec0f00718",
   "metadata": {},
   "outputs": [],
   "source": []
  },
  {
   "cell_type": "code",
   "execution_count": 4,
   "id": "ac5e9558-3dfe-41e3-8fed-f57abbbd0821",
   "metadata": {
    "execution": {
     "iopub.execute_input": "2023-10-13T18:53:52.949544Z",
     "iopub.status.busy": "2023-10-13T18:53:52.949157Z",
     "iopub.status.idle": "2023-10-13T18:53:52.954213Z",
     "shell.execute_reply": "2023-10-13T18:53:52.953406Z",
     "shell.execute_reply.started": "2023-10-13T18:53:52.949517Z"
    },
    "tags": []
   },
   "outputs": [
    {
     "name": "stdout",
     "output_type": "stream",
     "text": [
      "[('corporate_portfolio',)]\n"
     ]
    }
   ],
   "source": [
    "list_tables = \"\"\"\n",
    "    SELECT name FROM sqlite_master\n",
    "    WHERE type='table';\n",
    "\"\"\"\n",
    "c.execute(list_tables)\n",
    "print(c.fetchall())"
   ]
  },
  {
   "cell_type": "code",
   "execution_count": 5,
   "id": "0a454107-063e-4371-ae31-80ecbbdd8da8",
   "metadata": {
    "execution": {
     "iopub.execute_input": "2023-10-13T18:53:55.013555Z",
     "iopub.status.busy": "2023-10-13T18:53:55.012857Z",
     "iopub.status.idle": "2023-10-13T18:53:55.021996Z",
     "shell.execute_reply": "2023-10-13T18:53:55.021425Z",
     "shell.execute_reply.started": "2023-10-13T18:53:55.013524Z"
    },
    "tags": []
   },
   "outputs": [],
   "source": [
    "corp = pd.read_sql('''\n",
    "            SELECT * FROM corporate_portfolio\n",
    "            ''', \n",
    "            conn\n",
    ")"
   ]
  },
  {
   "cell_type": "code",
   "execution_count": 10,
   "id": "b6cd5f23-6d8b-4d87-8887-3c99137d81e0",
   "metadata": {
    "execution": {
     "iopub.execute_input": "2023-10-07T04:43:03.960660Z",
     "iopub.status.busy": "2023-10-07T04:43:03.960237Z",
     "iopub.status.idle": "2023-10-07T04:43:03.977193Z",
     "shell.execute_reply": "2023-10-07T04:43:03.976397Z",
     "shell.execute_reply.started": "2023-10-07T04:43:03.960634Z"
    },
    "tags": []
   },
   "outputs": [
    {
     "data": {
      "text/html": [
       "<div>\n",
       "<style scoped>\n",
       "    .dataframe tbody tr th:only-of-type {\n",
       "        vertical-align: middle;\n",
       "    }\n",
       "\n",
       "    .dataframe tbody tr th {\n",
       "        vertical-align: top;\n",
       "    }\n",
       "\n",
       "    .dataframe thead th {\n",
       "        text-align: right;\n",
       "    }\n",
       "</style>\n",
       "<table border=\"1\" class=\"dataframe\">\n",
       "  <thead>\n",
       "    <tr style=\"text-align: right;\">\n",
       "      <th></th>\n",
       "      <th>REPORTING_DATE</th>\n",
       "      <th>PARTNER_ID</th>\n",
       "      <th>LOAN_ID</th>\n",
       "      <th>PRODUCT</th>\n",
       "      <th>STATUS</th>\n",
       "      <th>EXPOSURE_DRAWN</th>\n",
       "      <th>EXPOSURE_UNDRAWN</th>\n",
       "      <th>EXPOSURE</th>\n",
       "      <th>EAD</th>\n",
       "      <th>EAD_COLL</th>\n",
       "      <th>PD</th>\n",
       "      <th>LGD</th>\n",
       "      <th>SIZE</th>\n",
       "      <th>MATURITY</th>\n",
       "      <th>F_LARGE_FIN</th>\n",
       "      <th>RW</th>\n",
       "      <th>RWA</th>\n",
       "    </tr>\n",
       "  </thead>\n",
       "  <tbody>\n",
       "    <tr>\n",
       "      <th>0</th>\n",
       "      <td>2022-12-31</td>\n",
       "      <td>uawif424nf9573</td>\n",
       "      <td>2507309957ifvm41</td>\n",
       "      <td>INVESTMENT</td>\n",
       "      <td>Performing</td>\n",
       "      <td>25088.771330</td>\n",
       "      <td>0.000000</td>\n",
       "      <td>25088.77133</td>\n",
       "      <td>25131.353780</td>\n",
       "      <td>25131.35378</td>\n",
       "      <td>0.005816</td>\n",
       "      <td>0.0000</td>\n",
       "      <td>0.123771</td>\n",
       "      <td>3.630137</td>\n",
       "      <td>N</td>\n",
       "      <td>0.000000</td>\n",
       "      <td>0.000000</td>\n",
       "    </tr>\n",
       "    <tr>\n",
       "      <th>1</th>\n",
       "      <td>2022-12-31</td>\n",
       "      <td>dninx621xv9731</td>\n",
       "      <td>1439964799kgeq68</td>\n",
       "      <td>CREDIT_CARD</td>\n",
       "      <td>Performing</td>\n",
       "      <td>5141.569897</td>\n",
       "      <td>4578.250143</td>\n",
       "      <td>9719.82004</td>\n",
       "      <td>7061.256068</td>\n",
       "      <td>0.00000</td>\n",
       "      <td>0.015661</td>\n",
       "      <td>0.7026</td>\n",
       "      <td>2.345659</td>\n",
       "      <td>1.413699</td>\n",
       "      <td>N</td>\n",
       "      <td>1.196209</td>\n",
       "      <td>8446.739634</td>\n",
       "    </tr>\n",
       "    <tr>\n",
       "      <th>2</th>\n",
       "      <td>2022-12-31</td>\n",
       "      <td>vzkah667hw5846</td>\n",
       "      <td>1851285872eypk20</td>\n",
       "      <td>CREDIT_CARD</td>\n",
       "      <td>Performing</td>\n",
       "      <td>0.000000</td>\n",
       "      <td>3830.218120</td>\n",
       "      <td>3830.21812</td>\n",
       "      <td>1565.410146</td>\n",
       "      <td>0.00000</td>\n",
       "      <td>0.002253</td>\n",
       "      <td>0.5490</td>\n",
       "      <td>44.995204</td>\n",
       "      <td>1.000000</td>\n",
       "      <td>N</td>\n",
       "      <td>0.409197</td>\n",
       "      <td>640.560639</td>\n",
       "    </tr>\n",
       "    <tr>\n",
       "      <th>3</th>\n",
       "      <td>2022-12-31</td>\n",
       "      <td>jgifj720tu4775</td>\n",
       "      <td>6674760563vhut13</td>\n",
       "      <td>REVOLVING</td>\n",
       "      <td>Performing</td>\n",
       "      <td>191579.208300</td>\n",
       "      <td>0.000000</td>\n",
       "      <td>191579.20830</td>\n",
       "      <td>194260.361000</td>\n",
       "      <td>0.00000</td>\n",
       "      <td>0.007416</td>\n",
       "      <td>0.6310</td>\n",
       "      <td>6.241902</td>\n",
       "      <td>1.000000</td>\n",
       "      <td>N</td>\n",
       "      <td>0.752645</td>\n",
       "      <td>146209.055500</td>\n",
       "    </tr>\n",
       "    <tr>\n",
       "      <th>4</th>\n",
       "      <td>2022-12-31</td>\n",
       "      <td>bomca722ef6862</td>\n",
       "      <td>9525064348ihbo50</td>\n",
       "      <td>REVOLVING</td>\n",
       "      <td>Performing</td>\n",
       "      <td>362164.751800</td>\n",
       "      <td>114906.543600</td>\n",
       "      <td>477071.29540</td>\n",
       "      <td>432062.182000</td>\n",
       "      <td>432062.18200</td>\n",
       "      <td>0.003088</td>\n",
       "      <td>0.0000</td>\n",
       "      <td>2.791970</td>\n",
       "      <td>1.000000</td>\n",
       "      <td>N</td>\n",
       "      <td>0.000000</td>\n",
       "      <td>0.000000</td>\n",
       "    </tr>\n",
       "  </tbody>\n",
       "</table>\n",
       "</div>"
      ],
      "text/plain": [
       "  REPORTING_DATE      PARTNER_ID           LOAN_ID      PRODUCT      STATUS  \\\n",
       "0     2022-12-31  uawif424nf9573  2507309957ifvm41   INVESTMENT  Performing   \n",
       "1     2022-12-31  dninx621xv9731  1439964799kgeq68  CREDIT_CARD  Performing   \n",
       "2     2022-12-31  vzkah667hw5846  1851285872eypk20  CREDIT_CARD  Performing   \n",
       "3     2022-12-31  jgifj720tu4775  6674760563vhut13    REVOLVING  Performing   \n",
       "4     2022-12-31  bomca722ef6862  9525064348ihbo50    REVOLVING  Performing   \n",
       "\n",
       "   EXPOSURE_DRAWN  EXPOSURE_UNDRAWN      EXPOSURE            EAD  \\\n",
       "0    25088.771330          0.000000   25088.77133   25131.353780   \n",
       "1     5141.569897       4578.250143    9719.82004    7061.256068   \n",
       "2        0.000000       3830.218120    3830.21812    1565.410146   \n",
       "3   191579.208300          0.000000  191579.20830  194260.361000   \n",
       "4   362164.751800     114906.543600  477071.29540  432062.182000   \n",
       "\n",
       "       EAD_COLL        PD     LGD       SIZE  MATURITY F_LARGE_FIN        RW  \\\n",
       "0   25131.35378  0.005816  0.0000   0.123771  3.630137           N  0.000000   \n",
       "1       0.00000  0.015661  0.7026   2.345659  1.413699           N  1.196209   \n",
       "2       0.00000  0.002253  0.5490  44.995204  1.000000           N  0.409197   \n",
       "3       0.00000  0.007416  0.6310   6.241902  1.000000           N  0.752645   \n",
       "4  432062.18200  0.003088  0.0000   2.791970  1.000000           N  0.000000   \n",
       "\n",
       "             RWA  \n",
       "0       0.000000  \n",
       "1    8446.739634  \n",
       "2     640.560639  \n",
       "3  146209.055500  \n",
       "4       0.000000  "
      ]
     },
     "execution_count": 10,
     "metadata": {},
     "output_type": "execute_result"
    }
   ],
   "source": [
    "corp.head()"
   ]
  },
  {
   "cell_type": "code",
   "execution_count": 6,
   "id": "c962dadc-61ed-41f6-bec9-1f24ff692a0b",
   "metadata": {
    "execution": {
     "iopub.execute_input": "2023-10-13T18:53:59.042221Z",
     "iopub.status.busy": "2023-10-13T18:53:59.041857Z",
     "iopub.status.idle": "2023-10-13T18:53:59.047514Z",
     "shell.execute_reply": "2023-10-13T18:53:59.046769Z",
     "shell.execute_reply.started": "2023-10-13T18:53:59.042195Z"
    },
    "tags": []
   },
   "outputs": [
    {
     "data": {
      "text/plain": [
       "321303962.8339104"
      ]
     },
     "execution_count": 6,
     "metadata": {},
     "output_type": "execute_result"
    }
   ],
   "source": [
    "corp['EAD'].sum()"
   ]
  },
  {
   "cell_type": "code",
   "execution_count": 7,
   "id": "df9ff7fe-022e-4b79-8bd4-ac38e49e77b9",
   "metadata": {
    "execution": {
     "iopub.execute_input": "2023-10-13T18:54:01.529230Z",
     "iopub.status.busy": "2023-10-13T18:54:01.528866Z",
     "iopub.status.idle": "2023-10-13T18:54:01.536788Z",
     "shell.execute_reply": "2023-10-13T18:54:01.536001Z",
     "shell.execute_reply.started": "2023-10-13T18:54:01.529203Z"
    },
    "tags": []
   },
   "outputs": [
    {
     "data": {
      "text/plain": [
       "REPORTING_DATE\n",
       "2022-12-31    156657.332349\n",
       "2023-03-31    164646.630485\n",
       "Name: EAD, dtype: float64"
      ]
     },
     "execution_count": 7,
     "metadata": {},
     "output_type": "execute_result"
    }
   ],
   "source": [
    "corp.groupby('REPORTING_DATE')['EAD'].sum()/1000"
   ]
  },
  {
   "cell_type": "code",
   "execution_count": null,
   "id": "339f59c7-04cc-48df-a930-c5dd39c44b61",
   "metadata": {},
   "outputs": [],
   "source": []
  },
  {
   "cell_type": "markdown",
   "id": "7be522b6-5119-4517-924b-3171b2d27e4e",
   "metadata": {},
   "source": [
    "Total portfolio"
   ]
  },
  {
   "cell_type": "code",
   "execution_count": null,
   "id": "831c5773-4499-4f52-967b-762783ad7074",
   "metadata": {},
   "outputs": [],
   "source": [
    "# ptf = pd.read_csv('portfolio.csv')\n",
    "# ptf.to_sql('portfolio', conn, if_exists='replace', index = False)"
   ]
  },
  {
   "cell_type": "code",
   "execution_count": 11,
   "id": "fe65c6f1-d15d-487d-95f1-e2c873d66745",
   "metadata": {
    "execution": {
     "iopub.execute_input": "2023-10-05T18:52:23.459439Z",
     "iopub.status.busy": "2023-10-05T18:52:23.459049Z",
     "iopub.status.idle": "2023-10-05T18:52:23.522297Z",
     "shell.execute_reply": "2023-10-05T18:52:23.521721Z",
     "shell.execute_reply.started": "2023-10-05T18:52:23.459412Z"
    }
   },
   "outputs": [],
   "source": [
    "# total_ptf = pd.read_sql('''\n",
    "#             SELECT * FROM portfolio\n",
    "#             ''', \n",
    "#             conn\n",
    "# )"
   ]
  },
  {
   "cell_type": "code",
   "execution_count": 16,
   "id": "83addc11-d07d-4718-b72e-aa51911d4d5f",
   "metadata": {
    "execution": {
     "iopub.execute_input": "2023-10-05T19:00:17.944394Z",
     "iopub.status.busy": "2023-10-05T19:00:17.944016Z",
     "iopub.status.idle": "2023-10-05T19:00:17.947303Z",
     "shell.execute_reply": "2023-10-05T19:00:17.946699Z",
     "shell.execute_reply.started": "2023-10-05T19:00:17.944368Z"
    },
    "tags": []
   },
   "outputs": [],
   "source": [
    "# total_ptf.head()"
   ]
  },
  {
   "cell_type": "code",
   "execution_count": 17,
   "id": "def29705-7530-437a-b7d9-7c50cd4f88cf",
   "metadata": {
    "execution": {
     "iopub.execute_input": "2023-10-05T19:00:20.437130Z",
     "iopub.status.busy": "2023-10-05T19:00:20.436768Z",
     "iopub.status.idle": "2023-10-05T19:00:20.440149Z",
     "shell.execute_reply": "2023-10-05T19:00:20.439483Z",
     "shell.execute_reply.started": "2023-10-05T19:00:20.437107Z"
    },
    "tags": []
   },
   "outputs": [],
   "source": [
    "# total_ptf.shape"
   ]
  },
  {
   "cell_type": "code",
   "execution_count": null,
   "id": "9292b14b-6048-4cfb-9436-e307b86ef361",
   "metadata": {},
   "outputs": [],
   "source": []
  },
  {
   "cell_type": "code",
   "execution_count": null,
   "id": "088f2164-748f-470a-9096-36519558b853",
   "metadata": {},
   "outputs": [],
   "source": []
  },
  {
   "cell_type": "code",
   "execution_count": null,
   "id": "a82813d9-dcb4-406f-82f5-8d978195cc20",
   "metadata": {},
   "outputs": [],
   "source": []
  },
  {
   "cell_type": "code",
   "execution_count": null,
   "id": "e83244f1-e1f2-424d-9910-f60535ace7b9",
   "metadata": {},
   "outputs": [],
   "source": []
  }
 ],
 "metadata": {
  "kernelspec": {
   "display_name": "saturn (Python 3)",
   "language": "python",
   "name": "python3"
  },
  "language_info": {
   "codemirror_mode": {
    "name": "ipython",
    "version": 3
   },
   "file_extension": ".py",
   "mimetype": "text/x-python",
   "name": "python",
   "nbconvert_exporter": "python",
   "pygments_lexer": "ipython3",
   "version": "3.9.15"
  }
 },
 "nbformat": 4,
 "nbformat_minor": 5
}
